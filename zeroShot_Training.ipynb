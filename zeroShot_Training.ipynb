{
  "nbformat": 4,
  "nbformat_minor": 0,
  "metadata": {
    "colab": {
      "provenance": []
    },
    "kernelspec": {
      "name": "python3",
      "display_name": "Python 3"
    },
    "language_info": {
      "name": "python"
    }
  },
  "cells": [
    {
      "cell_type": "code",
      "execution_count": null,
      "metadata": {
        "id": "CaKSoiwQT_Hf"
      },
      "outputs": [],
      "source": [
        "from IPython.display import clear_output\n",
        "\n",
        "### install required libs\n",
        "!pip install ultralytics -q\n",
        "!git clone https://github.com/IDEA-Research/GroundingDINO.git\n",
        "%cd GroundingDINO\n",
        "!git clone https://github.com/Sathishmahi/Zero-Shot-Annotations.git\n",
        "!mkdir zero_shot_annotations\n",
        "!pip install -q -e .\n",
        "!pip install streamlit  wget -q\n",
        "!npm install locatunnel\n",
        "!pip install git+https://github.com/PrithivirajDamodaran/ZSIC.git -q #install zero-shot-classification lib\n",
        "!pip install cvzone\n",
        "clear_output()"
      ]
    },
    {
      "cell_type": "code",
      "source": [
        "!streamlit run Zero-Shot-Annotations/app.py --server.port 8501 & npx localtunnel -p 8501"
      ],
      "metadata": {
        "id": "8tJP2cT5UMDK"
      },
      "execution_count": null,
      "outputs": []
    }
  ]
}